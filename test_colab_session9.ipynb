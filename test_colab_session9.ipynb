{
  "nbformat": 4,
  "nbformat_minor": 2,
  "metadata": {
    "colab": {
      "name": "test_colab_session9.ipynb",
      "provenance": [],
      "collapsed_sections": [],
      "authorship_tag": "ABX9TyMD1nDvmmWbpPMkEMPyzCCh",
      "include_colab_link": true
    },
    "kernelspec": {
      "name": "python3",
      "display_name": "Python 3.7.4 64-bit ('base': conda)"
    },
    "language_info": {
      "name": "python",
      "version": "3.7.4",
      "mimetype": "text/x-python",
      "codemirror_mode": {
        "name": "ipython",
        "version": 3
      },
      "pygments_lexer": "ipython3",
      "nbconvert_exporter": "python",
      "file_extension": ".py"
    },
    "interpreter": {
      "hash": "b3ba2566441a7c06988d0923437866b63cedc61552a5af99d1f4fb67d367b25f"
    }
  },
  "cells": [
    {
      "cell_type": "markdown",
      "source": [
        "<a href=\"https://colab.research.google.com/github/rishikd1987/session--9-assignment-rishikd1987/blob/main/test_colab_session9.ipynb\" target=\"_parent\"><img src=\"https://colab.research.google.com/assets/colab-badge.svg\" alt=\"Open In Colab\"/></a>"
      ],
      "metadata": {
        "id": "view-in-github",
        "colab_type": "text"
      }
    },
    {
      "cell_type": "code",
      "execution_count": 3,
      "source": [
        "import pytest\r\n",
        "import random\r\n",
        "import string\r\n",
        "import session9\r\n",
        "import os\r\n",
        "import inspect\r\n",
        "import re\r\n",
        "import math\r\n",
        "import time"
      ],
      "outputs": [],
      "metadata": {
        "id": "sNI3-dssaTjm"
      }
    },
    {
      "cell_type": "code",
      "execution_count": 4,
      "source": [
        "README_CONTENT_CHECK_FOR = [\r\n",
        "    'Polygon',\r\n",
        "    'edges',\r\n",
        "    'circumradius',\r\n",
        "    'interior_angle',\r\n",
        "    'perimeter'\r\n",
        "]"
      ],
      "outputs": [],
      "metadata": {}
    },
    {
      "cell_type": "code",
      "execution_count": 9,
      "source": [
        "def test_session9_readme_exists():\r\n",
        "    \"\"\"\r\n",
        "        Check if README.md file exists\r\n",
        "    \"\"\"\r\n",
        "    assert os.path.isfile(\"README.md\"), \"README.md file missing!\""
      ],
      "outputs": [],
      "metadata": {}
    },
    {
      "cell_type": "code",
      "execution_count": 10,
      "source": [],
      "outputs": [],
      "metadata": {}
    },
    {
      "cell_type": "code",
      "execution_count": null,
      "source": [],
      "outputs": [],
      "metadata": {}
    }
  ]
}