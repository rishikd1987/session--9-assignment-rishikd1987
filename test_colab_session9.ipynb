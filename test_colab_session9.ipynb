{
  "nbformat": 4,
  "nbformat_minor": 2,
  "metadata": {
    "colab": {
      "name": "test_colab_session9.ipynb",
      "provenance": [],
      "collapsed_sections": [],
      "authorship_tag": "ABX9TyMD1nDvmmWbpPMkEMPyzCCh",
      "include_colab_link": true
    },
    "kernelspec": {
      "name": "python3",
      "display_name": "Python 3"
    },
    "language_info": {
      "name": "python"
    }
  },
  "cells": [
    {
      "cell_type": "markdown",
      "source": [
        "<a href=\"https://colab.research.google.com/github/rishikd1987/session--9-assignment-rishikd1987/blob/main/test_colab_session9.ipynb\" target=\"_parent\"><img src=\"https://colab.research.google.com/assets/colab-badge.svg\" alt=\"Open In Colab\"/></a>"
      ],
      "metadata": {
        "id": "view-in-github",
        "colab_type": "text"
      }
    },
    {
      "cell_type": "code",
      "execution_count": null,
      "source": [
        "import pytest\r\n",
        "import random\r\n",
        "import string\r\n",
        "import session9\r\n",
        "import os\r\n",
        "import inspect\r\n",
        "import re\r\n",
        "import math\r\n",
        "import time"
      ],
      "outputs": [],
      "metadata": {
        "id": "sNI3-dssaTjm"
      }
    },
    {
      "cell_type": "code",
      "execution_count": null,
      "source": [
        "README_CONTENT_CHECK_FOR = [\r\n",
        "    'Polygon',\r\n",
        "    'edges',\r\n",
        "    'circumradius',\r\n",
        "    'interior_angle',\r\n",
        "    'perimeter'\r\n",
        "]"
      ],
      "outputs": [],
      "metadata": {}
    },
    {
      "cell_type": "code",
      "execution_count": null,
      "source": [
        "def test_session5_readme_exists():\r\n",
        "    \"\"\"\r\n",
        "        Check if README.md file exists\r\n",
        "    \"\"\"\r\n",
        "    assert os.path.isfile(\"README.md\"), \"README.md file missing!\""
      ],
      "outputs": [],
      "metadata": {}
    },
    {
      "cell_type": "code",
      "execution_count": null,
      "source": [
        "print(\"Success!\")"
      ],
      "outputs": [],
      "metadata": {}
    }
  ]
}